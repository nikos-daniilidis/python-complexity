{
 "cells": [
  {
   "cell_type": "code",
   "execution_count": 1,
   "metadata": {
    "collapsed": true
   },
   "outputs": [],
   "source": [
    "import numpy as np\n",
    "import math\n",
    "import pandas as pd\n",
    "import time"
   ]
  },
  {
   "cell_type": "code",
   "execution_count": 2,
   "metadata": {
    "collapsed": true
   },
   "outputs": [],
   "source": [
    "## old implementation of the class. This is slow, do not use!\n",
    "class FraudAnalyzer:\n",
    "    \"\"\"\n",
    "    Use an externally supplied function to determine the probability that an election result\n",
    "    is fraudulent.\n",
    "    \"\"\"\n",
    "    def __init__(self, simulation_df, func, patterns=(\"00\", \"25\"), digits=5):\n",
    "        \"\"\"\n",
    "        Initialize the fraud election detector.\n",
    "        :param simulation_df: pandas DataFrame. Contains the columns with the votes of each candidate\n",
    "        :param func: function. Used to generate the closure clos.\n",
    "                     clos determines if a result is \"nice\" (i.e. seems fraudulent) based on matching to\n",
    "                     specified patterns\n",
    "        :param patterns: tuple of string. Patterns which, combined with digits, determine if a result is \"nice\"\n",
    "        :param digits: int. Number of digits by which the decimal point is offset to determine pattern matching\n",
    "        :return: Nothing\n",
    "        \"\"\"\n",
    "        self.df = simulation_df\n",
    "        self.clos = func(patterns, digits)\n",
    "\n",
    "    def find_nice(self):\n",
    "        \"\"\"\n",
    "        Fill in the \"is_nice\" column of the df attribute\n",
    "        :return: Nothing\n",
    "        \"\"\"\n",
    "        self.df[\"is_nice\"] = self.df.apply(self.clos, axis=1)\n",
    "\n",
    "    def fraction_nice(self):\n",
    "        \"\"\"\n",
    "        Determine the fraction of \"nice\" results in the simulation DataFrame\n",
    "        :return: float. The fraction of \"nice results\"\n",
    "        \"\"\"\n",
    "        is_nice = self.df.apply(self.clos, axis=1)\n",
    "        return float(sum(is_nice))/self.df.shape[0]\n",
    "\n",
    "\n",
    "    \n",
    "def generate_is_nice(patterns=(\"00\", \"25\"), digits=5):\n",
    "    \"\"\"\n",
    "    Generate a closure \"is_nice(row)\" which takes in a row of numbers and determines\n",
    "    if the fractional sizes of all numbers share a common simple pattern\n",
    "    :param patterns: tuple of string. The patterns which determine if a fraction is \"nice\"\n",
    "    :param digits: int. Number of digits by which to offset aa fraction.\n",
    "    :return: closure. The is_nice(row) function returns 1 if the numbers in row give \"nice\"\n",
    "            fractions, 0 otherwise.\n",
    "    \"\"\"\n",
    "    def is_nice(row):\n",
    "        \"\"\"\n",
    "        Determine if the\n",
    "        :param row:\n",
    "        :return:\n",
    "        \"\"\"\n",
    "        normed_row = [(float(el)/sum(row[:-1])) for el in row[:-1]]\n",
    "        itis = False\n",
    "        for pattern in patterns:\n",
    "            i2 = True\n",
    "            for num in normed_row:\n",
    "                i2 = (has_form(num, pattern=pattern, digits=digits) and i2)\n",
    "            itis = itis or i2\n",
    "        return float(itis)\n",
    "    return is_nice\n",
    "\n",
    "\n",
    "def has_form(num, pattern, digits=5):\n",
    "    return str(num * 10**digits)[3:5] == pattern"
   ]
  },
  {
   "cell_type": "code",
   "execution_count": 21,
   "metadata": {
    "collapsed": false
   },
   "outputs": [
    {
     "name": "stdout",
     "output_type": "stream",
     "text": [
      "True\n",
      "False\n",
      "[False, False, False, False]\n",
      "[False, False, True, True]\n",
      "[False, False, True, True]\n",
      "[0.9998911101321823, 0.9994308029637864, 0.00041081177397472857, 0.0002672751300423215]\n",
      "[False, False, True, True]\n"
     ]
    }
   ],
   "source": [
    "num = 0.39800\n",
    "print ((num * 10**5) % 100) == 0.0\n",
    "num = 0.28500\n",
    "print ((num * 10**5) % 100) == 0.0\n",
    "ls = [160823, 115162, 82028, 46065]\n",
    "#ls = [0.39800, 0.28500, 0.20300, 0.11400]\n",
    "ls = [float(el)/sum(ls) for el in ls]\n",
    "print [((num * 10**5) % 100) == 0.0 for num in ls]\n",
    "print [abs((num * 10**5) % 100) <= 0.1 for num in ls]\n",
    "print [(int(num * 10**5) % 100) == 0 for num in ls]\n",
    "print [abs(1000*num-int(1000*num)) for num in ls]\n",
    "\n",
    "arr = np.array([np.float128(num) for num in ls])\n",
    "print [abs((num * 10**5) % 100) <= 0.1 for num in arr]"
   ]
  },
  {
   "cell_type": "code",
   "execution_count": 18,
   "metadata": {
    "collapsed": false
   },
   "outputs": [
    {
     "name": "stdout",
     "output_type": "stream",
     "text": [
      "1.59714889526\n",
      "0       0.001\n",
      "1    0.001001\n",
      "2    0.001002\n",
      "3    0.001003\n",
      "4    0.001004\n",
      "dtype: object\n"
     ]
    }
   ],
   "source": [
    "s = pd.Series(np.arange(1000,1000000)/np.float64(1000000))\n",
    "#s = pd.Series(np.array([0.398000, 0.285000, 0.20300, 0.114000]))\n",
    "t0 = time.time()\n",
    "s = pd.Series(s.values.astype(np.str))\n",
    "s_nice = s.apply(lambda e: float(is_nice(e)))\n",
    "t = time.time()\n",
    "print t-t0\n",
    "print s.head()"
   ]
  },
  {
   "cell_type": "code",
   "execution_count": 17,
   "metadata": {
    "collapsed": false
   },
   "outputs": [
    {
     "data": {
      "text/plain": [
       "True"
      ]
     },
     "execution_count": 17,
     "metadata": {},
     "output_type": "execute_result"
    }
   ],
   "source": [
    "def is_nice(x):\n",
    "    sub = x.split(\".\")[1][3:5]\n",
    "    return (sub == \"\") or (sub == \"00\") or (sub == \"25\")\n",
    "\n",
    "st = \"0.39800\"\n",
    "is_nice(st)"
   ]
  },
  {
   "cell_type": "code",
   "execution_count": 12,
   "metadata": {
    "collapsed": false
   },
   "outputs": [
    {
     "name": "stdout",
     "output_type": "stream",
     "text": [
      "0.0000\n"
     ]
    }
   ],
   "source": [
    "print \"%5.4f\" % s_nice.mean()"
   ]
  },
  {
   "cell_type": "code",
   "execution_count": 16,
   "metadata": {
    "collapsed": false
   },
   "outputs": [
    {
     "data": {
      "text/plain": [
       "0    1\n",
       "1    1\n",
       "2    1\n",
       "3    1\n",
       "dtype: float64"
      ]
     },
     "execution_count": 16,
     "metadata": {},
     "output_type": "execute_result"
    }
   ],
   "source": [
    "s_nice.head()"
   ]
  },
  {
   "cell_type": "code",
   "execution_count": null,
   "metadata": {
    "collapsed": true
   },
   "outputs": [],
   "source": []
  }
 ],
 "metadata": {
  "kernelspec": {
   "display_name": "Python 2",
   "language": "python",
   "name": "python2"
  },
  "language_info": {
   "codemirror_mode": {
    "name": "ipython",
    "version": 2
   },
   "file_extension": ".py",
   "mimetype": "text/x-python",
   "name": "python",
   "nbconvert_exporter": "python",
   "pygments_lexer": "ipython2",
   "version": "2.7.6"
  }
 },
 "nbformat": 4,
 "nbformat_minor": 0
}
