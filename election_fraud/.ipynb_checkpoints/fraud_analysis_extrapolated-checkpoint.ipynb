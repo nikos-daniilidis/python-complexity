{
 "cells": [
  {
   "cell_type": "code",
   "execution_count": 1,
   "metadata": {
    "collapsed": true
   },
   "outputs": [],
   "source": [
    "import numpy as np\n",
    "import pandas as pd\n",
    "from matplotlib import pyplot as plt\n",
    "from fraud_simulation import ElectionSimulator, FraudAnalyzer, is_nice, bayes_inversion"
   ]
  },
  {
   "cell_type": "code",
   "execution_count": 3,
   "metadata": {
    "collapsed": false
   },
   "outputs": [
    {
     "name": "stdout",
     "output_type": "stream",
     "text": [
      "300 voters -> p(result|fair) = 5.300e-03, p(fair|result) = 0.981\n",
      "1000 voters -> p(result|fair) = 4.460e-03, p(fair|result) = 0.978\n",
      "3000 voters -> p(result|fair) = 5.700e-05, p(fair|result) = 0.361\n",
      "10000 voters -> p(result|fair) = 1.200e-06, p(fair|result) = 0.012\n",
      "30000 voters -> p(result|fair) = 1.000e-07, p(fair|result) = 0.001\n"
     ]
    }
   ],
   "source": [
    "voter_iteration_tuples = [(300, 30000), (1000, 100000), (3000,1000000), (10000,10000000), (30000,30000000)]\n",
    "p_res_fair, p_fair, p_fraud, p_res_fraud, p_fair_res = [], [], [], [], []\n",
    "\n",
    "for tp in voter_iteration_tuples:\n",
    "    voters = tp[0]\n",
    "    iterations = tp[1]\n",
    "    nea_dimokratia_election = ElectionSimulator(num_candidates=4,\n",
    "                                                names=[\"Meimarakis\",\n",
    "                                                       \"Mitsotakis\",\n",
    "                                                       \"Tzitzikostas\",\n",
    "                                                       \"Georgiadis\"])\n",
    "\n",
    "    nea_dimokratia_election.update_distribution({\"Meimarakis\": [0.335, 0.41, 0.46],\n",
    "                                                 \"Mitsotakis\": [0.313, 0.2, 0.251],\n",
    "                                                 \"Tzitzikostas\": [0.227, 0.18, 0.154],\n",
    "                                                 \"Georgiadis\": [0.111, 0.17, 0.101]}, \n",
    "                                                voters) # 404078\n",
    "    simulation = nea_dimokratia_election.election_run(num_iterations=iterations)\n",
    "    sim_fraud = FraudAnalyzer(simulation, is_nice)\n",
    "    sim_fraud.find_nice()\n",
    "    p_res_fair.append(sim_fraud.fraction_nice())\n",
    "    p_fair.append(0.99)\n",
    "    p_fraud.append(0.01)\n",
    "    p_res_fraud.append(0.01)\n",
    "    p_fair_res.append(bayes_inversion(p_res_fair[-1], p_fair[-1], p_res_fraud[-1]))\n",
    "    print \"%d voters -> p(result|fair) = %4.3e, p(fair|result) = %4.3f\" %(voters, p_res_fair[-1], p_fair_res[-1])"
   ]
  },
  {
   "cell_type": "code",
   "execution_count": 4,
   "metadata": {
    "collapsed": false
   },
   "outputs": [
    {
     "data": {
      "text/html": [
       "<div>\n",
       "<table border=\"1\" class=\"dataframe\">\n",
       "  <thead>\n",
       "    <tr style=\"text-align: right;\">\n",
       "      <th></th>\n",
       "      <th>p(fair)</th>\n",
       "      <th>p(fair|result)</th>\n",
       "      <th>p(fraud)</th>\n",
       "      <th>p(result|fair)</th>\n",
       "      <th>p(result|fraud)</th>\n",
       "    </tr>\n",
       "  </thead>\n",
       "  <tbody>\n",
       "    <tr>\n",
       "      <th>0</th>\n",
       "      <td>0.99</td>\n",
       "      <td>0.981298</td>\n",
       "      <td>0.01</td>\n",
       "      <td>5.300000e-03</td>\n",
       "      <td>0.01</td>\n",
       "    </tr>\n",
       "    <tr>\n",
       "      <th>1</th>\n",
       "      <td>0.99</td>\n",
       "      <td>0.977854</td>\n",
       "      <td>0.01</td>\n",
       "      <td>4.460000e-03</td>\n",
       "      <td>0.01</td>\n",
       "    </tr>\n",
       "    <tr>\n",
       "      <th>2</th>\n",
       "      <td>0.99</td>\n",
       "      <td>0.360736</td>\n",
       "      <td>0.01</td>\n",
       "      <td>5.700000e-05</td>\n",
       "      <td>0.01</td>\n",
       "    </tr>\n",
       "    <tr>\n",
       "      <th>3</th>\n",
       "      <td>0.99</td>\n",
       "      <td>0.011741</td>\n",
       "      <td>0.01</td>\n",
       "      <td>1.200000e-06</td>\n",
       "      <td>0.01</td>\n",
       "    </tr>\n",
       "    <tr>\n",
       "      <th>4</th>\n",
       "      <td>0.99</td>\n",
       "      <td>0.000989</td>\n",
       "      <td>0.01</td>\n",
       "      <td>1.000000e-07</td>\n",
       "      <td>0.01</td>\n",
       "    </tr>\n",
       "  </tbody>\n",
       "</table>\n",
       "</div>"
      ],
      "text/plain": [
       "   p(fair)  p(fair|result)  p(fraud)  p(result|fair)  p(result|fraud)\n",
       "0     0.99        0.981298      0.01    5.300000e-03             0.01\n",
       "1     0.99        0.977854      0.01    4.460000e-03             0.01\n",
       "2     0.99        0.360736      0.01    5.700000e-05             0.01\n",
       "3     0.99        0.011741      0.01    1.200000e-06             0.01\n",
       "4     0.99        0.000989      0.01    1.000000e-07             0.01"
      ]
     },
     "execution_count": 4,
     "metadata": {},
     "output_type": "execute_result"
    }
   ],
   "source": [
    "df = pd.DataFrame({\"p(result|fair)\": p_res_fair,\n",
    "                   \"p(result|fraud)\": p_res_fraud,\n",
    "                   \"p(fair)\": p_fair,\n",
    "                   \"p(fraud)\": p_fraud,\n",
    "                   \"p(fair|result)\": p_fair_res})\n",
    "df.head()"
   ]
  },
  {
   "cell_type": "code",
   "execution_count": 3,
   "metadata": {
    "collapsed": true
   },
   "outputs": [],
   "source": [
    "fig = plt.figure()\n",
    "ax = plt.gca()\n",
    "ax.plot([300, 1000, 3000, 10000, 30000], [5.3e-3, 4.46e-3, 5.7e-5, 1.2e-6, 5e-8])\n",
    "ax.set_xscale('log')\n",
    "ax.set_yscale('log')\n",
    "plt.show()"
   ]
  },
  {
   "cell_type": "code",
   "execution_count": 4,
   "metadata": {
    "collapsed": false
   },
   "outputs": [
    {
     "data": {
      "text/plain": [
       "2.4999999999999994e-12"
      ]
     },
     "execution_count": 4,
     "metadata": {},
     "output_type": "execute_result"
    }
   ],
   "source": [
    "5e-8*5e-8/1e-3"
   ]
  },
  {
   "cell_type": "code",
   "execution_count": 8,
   "metadata": {
    "collapsed": false
   },
   "outputs": [
    {
     "name": "stdout",
     "output_type": "stream",
     "text": [
      "0.339756592292\n",
      "0.317444219067\n",
      "0.230223123732\n",
      "0.112576064909\n"
     ]
    }
   ],
   "source": [
    "\"\"\"\n",
    "Suppose an election is held for the leadership position in a major political party. Four candidates are running. After the election, the following results are announced:\n",
    "\n",
    "        Candidate A: 160823 votes\n",
    "        Candidate B: 115162 votes\n",
    "        Candidate C: 82028 votes\n",
    "        Candidate D: 46065 votes\n",
    "\n",
    "Candidate A is declared the winner by a clear margin. However, at that point people notice that the percentages of the four candidates, when rounded to three decimal digits look suspiciously round:\n",
    "\n",
    "        Candidate A: 39.800 %\n",
    "        Candidate B: 28.500 %\n",
    "        Candidate C: 20.300 %\n",
    "        Candidate D: 11.400 %\n",
    "\n",
    "All four rounded percentages have zeros in their 2nd and 3rd decimal digits! This leads to a fire of speculation about election fraud in social media and the press. \n",
    "\n",
    "How can one determine the probability of fraud in such a situation? One approach would be to say:\n",
    "\n",
    "$p(fraud|result) = 1 - p(fair|result)$\n",
    "\n",
    "where\n",
    "\n",
    "$p(fair|result) = \\frac{p(result|fair)p(fair)}{p(result|fair)p(fair)+p(result|fraud)p(fraud)}$\n",
    "\n",
    "Then, the priors can be set to reasonable values (e.g. $p(fair)=0.99$), while the conditionals $p(result|fair)$ and $p(result|fraud)$ are more tricky.\n",
    "\n",
    "One could argue that $p(result|fraud) \\sim 0.01$ by the token that a fraudster would not consider more than a couple of hundred ways to cheat and that setting the percentages to round values would be the most obvious choice of a naive fraudster (the \"inexperienced fraudster\" argument). However this is quite hand-wavy.\n",
    "\n",
    "Estimating $p(result|fair)$ is also problematic. On the one hand, getting four percentages that round so nicely to the third digit looks very suspicious -almost fabricated. On the other hand, the probability of getting percentages that round (in the 2nd & 3rd decimal digit) to 00, 00, 00, 00 is not going to be very different from the probability of getting percentages that round (in 2nd & 3rd digit) to 01, 23, 45, 31, or any other allowed combination, so why single out the former? \n",
    "\n",
    "How can one formulate the layman intuition that four percentages which round so nicely look suspicious? I thought of using the criterion: Find the probability that the rounded percentages can be generated from a simple rule which repeats the same pattern in their 2nd and 3rd decimal digits. For example, the patterns 00, 00, 00, 00 and 25, 25, 25, 25 are the two simplest possible patterns, and will be grouped together when estimating the probability. The probability of getting one of the patterns in the lowest simplicity class is very low ($<10^{-12}$ by a Monte Carlo estimate). This is not entirely satisfactory, as it maintains the distinction between \"suspicious\" and \"non-suspicious\" numbers but hides it behind the idea of \"simple\" vs \"non-simple\" patterns.\n",
    "\n",
    "Does anyone have any idea of a different way to arrive at a reasonable estimate of $p(fair|result)$, and/or $p(result|fraud)$, or even an entirely different approach? (you can assume that you do not have access to election results broken down by voting center, area, etc.)\n",
    "\n",
    "*Note: The above is not a hypothetical scenario, it happened in real life. The quoted numbers are the numbers of votes received by the four candidates for the presidency of the Greek party of [\"New Democracy\"][1] on December 20th 2015.*\n",
    "\n",
    "\n",
    "  [1]: https://en.wikipedia.org/wiki/New_Democracy_(Greece)\n",
    "\"\"\""
   ]
  },
  {
   "cell_type": "code",
   "execution_count": null,
   "metadata": {
    "collapsed": true
   },
   "outputs": [],
   "source": [
    "\"\"\"\n",
    "A level-headed statistician is called in to determine the probability of election fraud. The statistician is allowed to use the results of opinion polls from the week leading to the election (if she wants):\n",
    "\n",
    "          | Poll 1 | Poll 2 | Poll 3\n",
    "        -----------------------------\n",
    "        A |  33.7  |  42.0  |  47.6 \n",
    "        B |  31.5  |  22.0  |  26.1\n",
    "        C |  22.7  |  18.5  |  15.2\n",
    "        D |  12.1  |  17.5  |  11.1 \n",
    "\"\"\""
   ]
  }
 ],
 "metadata": {
  "kernelspec": {
   "display_name": "Python 2",
   "language": "python",
   "name": "python2"
  },
  "language_info": {
   "codemirror_mode": {
    "name": "ipython",
    "version": 2
   },
   "file_extension": ".py",
   "mimetype": "text/x-python",
   "name": "python",
   "nbconvert_exporter": "python",
   "pygments_lexer": "ipython2",
   "version": "2.7.6"
  }
 },
 "nbformat": 4,
 "nbformat_minor": 0
}
